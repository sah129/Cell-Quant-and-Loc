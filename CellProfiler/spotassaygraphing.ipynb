{
 "cells": [
  {
   "cell_type": "code",
   "execution_count": 1,
   "metadata": {},
   "outputs": [],
   "source": [
    "import sqlite3"
   ]
  },
  {
   "cell_type": "code",
   "execution_count": 6,
   "metadata": {},
   "outputs": [],
   "source": [
    "conn = sqlite3.connect(\"C:/Users/sarah/Desktop/ODonnell/CellProfiler/Output/results.db\")\n",
    "with conn:\n",
    "    c = conn.cursor()\n",
    "    c.execute('SELECT * FROM MyExpt_Per_NaturalSpots')\n",
    "    c.execute('SELECT * from sqlite_master')\n",
    "    d = c.fetchall()\n",
    "    #c.execute('CREATE VIEW areaSums as SELECT ImageNumber, NaturalSpots_Number_Object_Number, NaturalSpots_AreaShape_Area FROM MyExpt_Per_NaturalSpots GROUP BY ImageNumber,(NaturalSpots_Number_Object_Number-1)/5')"
   ]
  },
  {
   "cell_type": "code",
   "execution_count": 16,
   "metadata": {},
   "outputs": [],
   "source": [
    "c.execute('CREATE VIEW areaSums as SELECT ImageNumber, NaturalSpots_Number_Object_Number, NaturalSpots_AreaShape_Area FROM MyExpt_Per_NaturalSpots GROUP BY ImageNumber,(NaturalSpots_Number_Object_Number-1)/5')\n",
    "d = c.fetchall()"
   ]
  },
  {
   "cell_type": "code",
   "execution_count": 19,
   "metadata": {},
   "outputs": [
    {
     "name": "stdout",
     "output_type": "stream",
     "text": [
      "(1, 1, 1983.0)\n",
      "(1, 6, 571.0)\n",
      "(1, 11, 1325.0)\n",
      "(1, 16, 1319.0)\n",
      "(1, 21, 866.0)\n",
      "(1, 26, 1289.0)\n",
      "(1, 31, 1408.0)\n",
      "(2, 1, 0.0)\n",
      "(2, 6, 3287.0)\n",
      "(2, 11, 2292.0)\n",
      "(2, 16, 2578.0)\n",
      "(2, 21, 2534.0)\n",
      "(2, 26, 2330.0)\n",
      "(2, 31, 4513.0)\n",
      "(4, 1, 0.0)\n",
      "(4, 6, 2977.0)\n",
      "(4, 11, 2594.0)\n",
      "(4, 16, 2772.0)\n",
      "(4, 21, 2505.0)\n",
      "(4, 26, 2761.0)\n",
      "(4, 31, 3216.0)\n",
      "(5, 1, 0.0)\n",
      "(5, 6, 562.0)\n",
      "(5, 11, 1410.0)\n",
      "(5, 16, 871.0)\n",
      "(5, 21, 1985.0)\n",
      "(5, 26, 1608.0)\n",
      "(5, 31, 725.0)\n",
      "(6, 1, 0.0)\n",
      "(6, 6, 223.0)\n",
      "(6, 11, 2226.0)\n",
      "(6, 16, 85.0)\n",
      "(6, 21, 2754.0)\n",
      "(6, 26, 2248.0)\n",
      "(6, 31, 34.0)\n",
      "(7, 1, 0.0)\n",
      "(7, 6, 3154.0)\n",
      "(7, 11, 3087.0)\n",
      "(7, 16, 3435.0)\n",
      "(7, 21, 3140.0)\n",
      "(7, 26, 3286.0)\n",
      "(7, 31, 4082.0)\n"
     ]
    }
   ],
   "source": [
    "c.execute('SELECT * from areaSums')\n",
    "d = c.fetchall()\n",
    "for row in d:\n",
    "    print(row)"
   ]
  },
  {
   "cell_type": "code",
   "execution_count": 22,
   "metadata": {},
   "outputs": [
    {
     "data": {
      "text/plain": [
       "(1, 11, 1325.0)"
      ]
     },
     "execution_count": 22,
     "metadata": {},
     "output_type": "execute_result"
    }
   ],
   "source": [
    "d[2]"
   ]
  },
  {
   "cell_type": "code",
   "execution_count": null,
   "metadata": {},
   "outputs": [],
   "source": []
  }
 ],
 "metadata": {
  "kernelspec": {
   "display_name": "Python 3",
   "language": "python",
   "name": "python3"
  },
  "language_info": {
   "codemirror_mode": {
    "name": "ipython",
    "version": 3
   },
   "file_extension": ".py",
   "mimetype": "text/x-python",
   "name": "python",
   "nbconvert_exporter": "python",
   "pygments_lexer": "ipython3",
   "version": "3.8.2"
  }
 },
 "nbformat": 4,
 "nbformat_minor": 4
}
